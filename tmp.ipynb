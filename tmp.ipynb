{
 "metadata": {
  "language_info": {
   "codemirror_mode": {
    "name": "ipython",
    "version": 3
   },
   "file_extension": ".py",
   "mimetype": "text/x-python",
   "name": "python",
   "nbconvert_exporter": "python",
   "pygments_lexer": "ipython3",
   "version": "3.8.5"
  },
  "orig_nbformat": 2,
  "kernelspec": {
   "name": "python385jvsc74a57bd0f722fbb15eed1cc4e3031568bb516693abeea6339598586c1c05bc1b31d796ed",
   "display_name": "Python 3.8.5 64-bit ('base': conda)"
  }
 },
 "nbformat": 4,
 "nbformat_minor": 2,
 "cells": [
  {
   "cell_type": "code",
   "execution_count": 1,
   "metadata": {},
   "outputs": [
    {
     "output_type": "stream",
     "name": "stdout",
     "text": [
      "[1.0, 0.0, 0.0, 0.0]\n[0.5, 0.5, 0.0, 0.0]\n[0.3333333333333333, 0.3333333333333333, 0.3333333333333333, 0.0]\n[0.25, 0.25, 0.25, 0.25]\n"
     ]
    }
   ],
   "source": [
    "for i in range(1, 5):\n",
    "    weights = [1. / i] * i + [0.] * (4 - i)\n",
    "    print(weights)"
   ]
  },
  {
   "cell_type": "code",
   "execution_count": 12,
   "metadata": {},
   "outputs": [],
   "source": [
    "s = \"Now let’s try training a Transformer (Vaswani, et al 2017) ranker model. Make sure to complete this section on a GPU with PyTorch installed. We’ll be training on the Twitter task, which is a dataset of tweets and replies. There’s more information on tasks in these docs, including a full list of tasks Make sure Make sure and instructions on specifying arguments for training and evaluation\""
   ]
  },
  {
   "cell_type": "code",
   "execution_count": 15,
   "metadata": {},
   "outputs": [
    {
     "output_type": "stream",
     "name": "stdout",
     "text": [
      "0.07692307692307693\n"
     ]
    }
   ],
   "source": [
    "from parlai.core.metrics import IntraDistinctMetric\n",
    "print(float(IntraDistinctMetric.compute(s,ngram=2)))"
   ]
  },
  {
   "cell_type": "code",
   "execution_count": 27,
   "metadata": {},
   "outputs": [
    {
     "output_type": "stream",
     "name": "stdout",
     "text": [
      "0.9666666666666667\n"
     ]
    }
   ],
   "source": [
    "from parlai.core.metrics import InterDistinctMetric\n",
    "inter = InterDistinctMetric.compute(text=s, ngram=2).value()\n",
    "print(inter)"
   ]
  },
  {
   "cell_type": "code",
   "execution_count": 10,
   "metadata": {},
   "outputs": [
    {
     "output_type": "stream",
     "name": "stdout",
     "text": [
      "0.2143\n"
     ]
    }
   ],
   "source": [
    "from parlai.core.metrics import F1Metric\n",
    "y = \"Blue is my favorite primary color.\"\n",
    "knowledges = [\n",
    "                \" Blue is one of the three primary colours of pigments in painting and traditional colour theory, as well as in the RGB colour model.\",\n",
    "                \" It lies between violet and green on the spectrum of visible light.\",\n",
    "                \" The eye perceives blue when observing light with a dominant wavelength between approximately 450 and 495 nanometres.\",\n",
    "                \" Most blues contain a slight mixture of other colors; azure contains some green, while ultramarine contains some violet.\",\n",
    "                \" The clear daytime sky and the deep sea appear blue because of an optical effect known as Rayleigh scattering.\",\n",
    "                \" An optical effect called Tyndall scattering explains blue eyes.\",\n",
    "                \" Distant objects appear more blue because of another optical effect called atmospheric perspective.\",\n",
    "                \" Blue has been an important colour in art and decoration since ancient times.\",\n",
    "                \" The semi-precious stone lapis lazuli was used in ancient Egypt for jewellery and ornament and later, in The Renaissance, to make the pigment ultramarine, the most expensive of all pigments.\",\n",
    "                \" In the eighth century Chinese artists used cobalt blue to colour fine blue and white porcelain.\",\n",
    "                \" In the Middle Ages, European artists used it in the windows of Cathedrals.\",\n",
    "                \" Europeans wore clothing coloured with the vegetable dye woad until it was replaced by the finer indigo from America.\"\n",
    "            ]\n",
    "score = F1Metric.compute(y, knowledges)\n",
    "print(score)"
   ]
  }
 ]
}